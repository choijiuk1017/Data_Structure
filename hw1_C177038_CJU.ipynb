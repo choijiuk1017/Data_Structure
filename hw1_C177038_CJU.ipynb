{
  "nbformat": 4,
  "nbformat_minor": 0,
  "metadata": {
    "colab": {
      "provenance": [],
      "collapsed_sections": []
    },
    "kernelspec": {
      "name": "python3",
      "display_name": "Python 3"
    },
    "language_info": {
      "name": "python"
    }
  },
  "cells": [
    {
      "cell_type": "markdown",
      "source": [
        "C177038 최지욱"
      ],
      "metadata": {
        "id": "dVrwuDBK9nUU"
      }
    },
    {
      "cell_type": "markdown",
      "source": [
        "Homework 1.1."
      ],
      "metadata": {
        "id": "BiRejV6h9wBD"
      }
    },
    {
      "cell_type": "code",
      "execution_count": null,
      "metadata": {
        "colab": {
          "base_uri": "https://localhost:8080/"
        },
        "id": "o0ks-UmI87Yf",
        "outputId": "9ad44c34-0e0c-4588-adbc-c2b1f5ebaae8"
      },
      "outputs": [
        {
          "output_type": "stream",
          "name": "stdout",
          "text": [
            "1 : 0\n",
            "2 : 3\n",
            "3 : 18\n",
            "4 : 93\n",
            "5 : 468\n",
            "6 : 2343\n",
            "7 : 11718\n",
            "8 : 58593\n",
            "9 : 292968\n",
            "10 : 1464843\n"
          ]
        }
      ],
      "source": [
        "def homework(n):\n",
        "  if n == 1: #n이 1일때\n",
        "    return 0\n",
        "  else :\n",
        "    return 5 * homework(n-1)+ 3 #n이 1 이상일 때\n",
        "\n",
        "for i in range(1,11):\n",
        "  print(i,\":\",homework(i))"
      ]
    },
    {
      "cell_type": "markdown",
      "source": [
        "Homework 1.2."
      ],
      "metadata": {
        "id": "kSrL6zm2-hjB"
      }
    },
    {
      "cell_type": "code",
      "source": [
        "def fibo(n): \n",
        "  first = 1 #첫번째 수\n",
        "  second = 1 #두번째 수\n",
        "  change = 0 #수를 바꿀 때 임시 저장할 변수\n",
        "  if n == 1 or n == 2:\n",
        "    return 1  #첫번째와 두번째 수는 1\n",
        "  else:\n",
        "    for i in range(1, n): #n번째 수까지 반복해서 n번째의 수 구함\n",
        "      change = first \n",
        "      first = second \n",
        "      second = change + second  \n",
        "     \n",
        "  return first\n",
        "\n",
        "for i in range(1, 41):\n",
        "  print(i,\":\",fibo(i))\n",
        "\n",
        "#https://richwind.co.kr/3 참조 해당 방법에서 응용"
      ],
      "metadata": {
        "colab": {
          "base_uri": "https://localhost:8080/"
        },
        "id": "qu6Vg3Ej-mAV",
        "outputId": "cd9e8f6d-1002-4a6d-9c17-975200fd31b2"
      },
      "execution_count": null,
      "outputs": [
        {
          "output_type": "stream",
          "name": "stdout",
          "text": [
            "1 : 1\n",
            "2 : 1\n",
            "3 : 2\n",
            "4 : 3\n",
            "5 : 5\n",
            "6 : 8\n",
            "7 : 13\n",
            "8 : 21\n",
            "9 : 34\n",
            "10 : 55\n",
            "11 : 89\n",
            "12 : 144\n",
            "13 : 233\n",
            "14 : 377\n",
            "15 : 610\n",
            "16 : 987\n",
            "17 : 1597\n",
            "18 : 2584\n",
            "19 : 4181\n",
            "20 : 6765\n",
            "21 : 10946\n",
            "22 : 17711\n",
            "23 : 28657\n",
            "24 : 46368\n",
            "25 : 75025\n",
            "26 : 121393\n",
            "27 : 196418\n",
            "28 : 317811\n",
            "29 : 514229\n",
            "30 : 832040\n",
            "31 : 1346269\n",
            "32 : 2178309\n",
            "33 : 3524578\n",
            "34 : 5702887\n",
            "35 : 9227465\n",
            "36 : 14930352\n",
            "37 : 24157817\n",
            "38 : 39088169\n",
            "39 : 63245986\n",
            "40 : 102334155\n"
          ]
        }
      ]
    },
    {
      "cell_type": "markdown",
      "source": [
        "피보나치 수열 재귀적 방법과의 비교\n",
        "- 재귀적 방법은 일정 이상의 수부터는 계산에 시간이 걸리는 반면 반복문 방법은 한번에 계산이 된다.\n",
        "- 재귀적 방법은 현재 사용하는 컴퓨터 기준 50이상부터는 30초 이상 걸린다. \n",
        "- 재귀적 방법에 비해 반복문 방법이 훨씬 빠른것 같다."
      ],
      "metadata": {
        "id": "DBmELpwUuK-Y"
      }
    },
    {
      "cell_type": "markdown",
      "source": [
        "Homework 1.3."
      ],
      "metadata": {
        "id": "8dtYrzbnv_iG"
      }
    },
    {
      "cell_type": "code",
      "source": [
        "\n",
        "\n",
        "def hanoi(n, src, dest, spare):\n",
        "  if n==1: #Base case\n",
        "    print(\"Move disc {} from {} to {}\".format(n,src,dest))\n",
        "    return 1 #n이 1일때 1을 반환 \n",
        "  else: #n=>2\n",
        "    count = 0\n",
        "    count += hanoi(n-1,src,spare,dest) #n이 1이 될때까지 가서 1을 반환해옴\n",
        "    count += 1 # 카운트에 1을 더함\n",
        "    print(\"Move disc {} from {} to {}\".format(n,src,dest))\n",
        "    count += hanoi(n-1,spare,dest,src) #n이 1이 될때까지 가서 1을 반환해오고 더함\n",
        "    return count #최종 카운트 반환\n",
        "  \n",
        "  \n",
        "\n",
        "n=7\n",
        "src='a'\n",
        "dest='b'\n",
        "spare='c'\n",
        "hanoi(n, src, dest, spare)\n",
        "\n",
        "#https://keoroo.tistory.com/66 참고 해당 참고 자료에서 수업에서 배운 내용에 응용"
      ],
      "metadata": {
        "colab": {
          "base_uri": "https://localhost:8080/"
        },
        "id": "dUWfXSgRwDn8",
        "outputId": "7df4693b-0928-43ab-9c9a-f4e0df55c832"
      },
      "execution_count": null,
      "outputs": [
        {
          "output_type": "execute_result",
          "data": {
            "text/plain": [
              "127"
            ]
          },
          "metadata": {},
          "execution_count": 18
        }
      ]
    },
    {
      "cell_type": "markdown",
      "source": [
        "Homework 1.4."
      ],
      "metadata": {
        "id": "N7oOzikGQ3TM"
      }
    },
    {
      "cell_type": "markdown",
      "source": [
        "시간 복잡도: O(n^2)\n",
        "1. sum <- 0 에서: 1번\n",
        "2. for i <- 0 to n-1: n번\n",
        "3. for j <- 0 to n-1: n번\n",
        "- for 루프가 중첩되어 총 n * n  = n^2 번 반복된다.\n",
        "- 따라서 알고리즘의 총 수행 시간은 n^2에 비례한다."
      ],
      "metadata": {
        "id": "SiVdXyLKRILA"
      }
    }
  ]
}