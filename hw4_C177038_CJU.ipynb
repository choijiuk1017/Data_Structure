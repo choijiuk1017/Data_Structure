{
  "nbformat": 4,
  "nbformat_minor": 0,
  "metadata": {
    "colab": {
      "provenance": [],
      "collapsed_sections": []
    },
    "kernelspec": {
      "name": "python3",
      "display_name": "Python 3"
    },
    "language_info": {
      "name": "python"
    }
  },
  "cells": [
    {
      "cell_type": "markdown",
      "source": [
        "Homework. 1."
      ],
      "metadata": {
        "id": "gewYYfccfYD_"
      }
    },
    {
      "cell_type": "markdown",
      "source": [
        "Algorithm Push(q1, x)\n",
        "1. IF q1 is empty:\n",
        "2. - q1.enqueue(x)\n",
        "3. ELSE:\n",
        "4. - q2 ← ListQueue() # 빈 큐 생성 (보조 큐)\n",
        "5. - WHILE not q1 is empty:\n",
        "6. - - q2.enqueue(q1.dequeue())\n",
        "7. - q1.enqueue(x)\n",
        "8. - WHILE not q2 is empty:\n",
        "9. - - q1.enqueue(q2.dequeue())"
      ],
      "metadata": {
        "id": "y4On-Pe3fl1R"
      }
    },
    {
      "cell_type": "markdown",
      "source": [
        "Algorithm Pop(q1)\n",
        "\n",
        "1. IF q1 is empty:\n",
        "2. - RETURN None\n",
        "3. ELSE:\n",
        "4. - q1.dequeue()"
      ],
      "metadata": {
        "id": "uvy-0IAokZma"
      }
    },
    {
      "cell_type": "markdown",
      "source": [
        "Homework. 2."
      ],
      "metadata": {
        "id": "vt4ZykbEc-7E"
      }
    },
    {
      "cell_type": "code",
      "execution_count": null,
      "metadata": {
        "id": "E6T5_Fg1SkxV"
      },
      "outputs": [],
      "source": [
        "class ListQueue:\n",
        "\n",
        "\tdef __init__(self): #생성자 정의\n",
        "\t\tself.__queue = []\t#empty list\n",
        "\n",
        "\tdef enqueue(self, x): #큐의 삽입 연산, 맨 뒤에 추가\n",
        "\t\tself.__queue.append(x)\n",
        "\t \n",
        "\tdef dequeue(self): #큐의 삭제 연산, 맨 앞의 원소 삭제 후 반환\n",
        "\t\treturn self.__queue.pop(0) # .pop(0): 리스트의 첫 원소를 삭제한 후 원소 리턴\n",
        "\n",
        "\tdef front(self): #큐의 맨 앞 원소 반환\n",
        "\t\tif self.isEmpty(): #큐가 비었는지 확인\n",
        "\t\t\treturn None #Error check\n",
        "\t\telse:\n",
        "\t\t\treturn self.__queue[0] #큐의 맨 앞(0 번 인덱스) 반환\n",
        "\n",
        "\tdef isEmpty(self) -> bool: #큐가 비었는지 확인\n",
        "\t\treturn (len(self.__queue) == 0);\n",
        " \n",
        "\tdef dequeueAll(self): #큐의 원소 모두 삭제\n",
        "\t\tself.__queue.clear()\n",
        "\n",
        "\tdef printQueue(self): #큐의 모든 값 출력\n",
        "\t\tprint(\"Queue from front:\", end = ' ')\n",
        "\t\tfor i in range(len(self.__queue)):\n",
        "\t\t\tprint(self.__queue[i], end = ' ')\n",
        "\t\tprint()\n",
        "  \n",
        "\tdef push(self, x):\n",
        "\t\tq2 = ListQueue() #보조 큐\n",
        "\t\twhile not self.isEmpty(): #self가 비어있지 않은 동안\n",
        "\t\t\tq2.enqueue(self.dequeue()) #q2로 self의 맨 앞의 원소를 반환 후 삭제 및 q2의 맨뒤에 삽입 반복, self의 맨 앞부터 반환 및 삭제\n",
        "\t\tself.enqueue(x) #self 큐에 삽입할 원소를 맨 뒤에 추가\n",
        "\t\twhile not q2.isEmpty(): #q2가 비어있지 않은 동안 \n",
        "\t\t\tself.enqueue(q2.dequeue()) #self의 맨 뒤에 q2의 맨 앞 원소 반환 후 삭제\n",
        "\n",
        "\tdef pop(self):\n",
        "\t\tif self.isEmpty():\n",
        "\t\t\treturn None\n",
        "\t\telse:\n",
        "\t\t\tself.dequeue()"
      ]
    },
    {
      "cell_type": "code",
      "source": [
        "q1 = ListQueue()\n",
        "q1.push(10)\n",
        "q1.push(20)\n",
        "q1.push(30)\n",
        "q1.printQueue()\n",
        "q1.pop()\n",
        "q1.printQueue()\n",
        "q1.pop()\n",
        "q1.printQueue()\n",
        "q1.enqueue(20)\n",
        "q1.enqueue(30)\n",
        "q1.printQueue()\n",
        "q1.pop()\n",
        "q1.printQueue()\n",
        "q1.dequeue()\n",
        "q1.printQueue()"
      ],
      "metadata": {
        "colab": {
          "base_uri": "https://localhost:8080/"
        },
        "id": "Lya00IybesAA",
        "outputId": "6cac8b34-533e-4ef1-8079-6f55813f064d"
      },
      "execution_count": null,
      "outputs": [
        {
          "output_type": "stream",
          "name": "stdout",
          "text": [
            "Queue from front: 30 20 10 \n",
            "Queue from front: 20 10 \n",
            "Queue from front: 10 \n",
            "Queue from front: 10 20 30 \n",
            "Queue from front: 20 30 \n",
            "Queue from front: 30 \n"
          ]
        }
      ]
    },
    {
      "cell_type": "markdown",
      "source": [
        "Homework. 3."
      ],
      "metadata": {
        "id": "Tki3mz1t_XPA"
      }
    },
    {
      "cell_type": "code",
      "source": [
        "class ListDeque:\n",
        "\n",
        "\tdef __init__(self):\n",
        "\t\tself.__queue = []\n",
        "\n",
        "\tdef enqueueFront(self, x):\n",
        "\t\tq2 = ListDeque() #보조 큐\n",
        "\t\twhile not self.isEmpty(): #self가 비어있지 않은 동안\n",
        "\t\t\tq2.__queue.append(self.__queue.pop(0)) #q2로 self의 맨 앞의 원소를 반환 후 삭제 및 q2의 맨뒤에 삽입 반복, self의 맨 앞부터 반환 및 삭제\n",
        "\t\tself.__queue.append(x) #self 큐에 삽입할 원소를 맨 뒤에 추가\n",
        "\t\twhile not q2.isEmpty(): #q2가 비어있지 않은 동안 \n",
        "\t\t\tself.__queue.append(q2.__queue.pop(0)) #self의 맨 뒤에 q2의 맨 앞 원소 반환 후 삭제\n",
        "\n",
        "\n",
        "\tdef enqueueRear(self, x):\n",
        "\t\tself.__queue.append(x)\n",
        "\n",
        "\tdef dequeueFront(self):\n",
        "\t\treturn self.__queue.pop(0)\n",
        "\n",
        "\tdef dequeueRear(self):\n",
        "\t\treturn self.__queue.pop(len(self.__queue)-1)\n",
        "\n",
        "\tdef front(self):\n",
        "\t\tif self.isEmpty():\n",
        "\t\t\treturn None\n",
        "\t\telse:\n",
        "\t\t\treturn self.__queue[0]\n",
        "\n",
        "\tdef rear(self):\n",
        "\t\tif self.isEmpty():\n",
        "\t\t\treturn None\n",
        "\t\telse:\n",
        "\t\t\treturn self.__queue[len(self.__queue)-1]\n",
        "\n",
        "\tdef isEmpty(self) -> bool:\n",
        "\t\treturn (len(self.__queue) == 0);\n",
        "\n",
        "\tdef dequeueAll(self):\n",
        "\t\tself.__queue.clear()\n",
        "\n",
        "\tdef printDeque(self):\n",
        "\t\tprint(\"Deque from front:\", end = ' ')\n",
        "\t\tfor i in range(len(self.__queue)):\n",
        "\t\t\tprint(self.__queue[i], end = ' ')\n",
        "\t\tprint()\n",
        "  \n",
        "\tdef printDequeReverse(self):\n",
        "\t\tprint(\"Deque from rear:\", end  = ' ')\n",
        "\t\tj = len(self.__queue) - 1\n",
        "\t\tfor i in range(len(self.__queue)):\n",
        "\t\t\tprint(self.__queue[j], end = ' ')\n",
        "\t\t\tj = j - 1\n",
        "\t\tprint()"
      ],
      "metadata": {
        "id": "ebCZM3Yz_U29"
      },
      "execution_count": null,
      "outputs": []
    },
    {
      "cell_type": "code",
      "source": [
        "d1 = ListDeque()\n",
        "d1.enqueueFront(20)\n",
        "d1.enqueueFront(10)\n",
        "d1.enqueueRear(30)\n",
        "d1.enqueueRear(40)\n",
        "d1.enqueueFront(\"Start\")\n",
        "d1.enqueueRear(\"End\")\n",
        "d1.printDeque()\n",
        "d1.printDequeReverse()\n",
        "d1.dequeueFront()\n",
        "d1.dequeueRear()\n",
        "d1.printDeque()\n",
        "d1.printDequeReverse()\n",
        "d1.dequeueAll()\n",
        "d1.printDeque()"
      ],
      "metadata": {
        "colab": {
          "base_uri": "https://localhost:8080/"
        },
        "id": "XVOHKtGyE4vi",
        "outputId": "0a2156ab-7937-47ad-aed0-b55a082cc39c"
      },
      "execution_count": null,
      "outputs": [
        {
          "output_type": "stream",
          "name": "stdout",
          "text": [
            "Deque from front: Start 10 20 30 40 End \n",
            "Deque from rear: End 40 30 20 10 Start \n",
            "Deque from front: 10 20 30 40 \n",
            "Deque from rear: 40 30 20 10 \n",
            "Deque from front: \n"
          ]
        }
      ]
    },
    {
      "cell_type": "markdown",
      "source": [
        "Homework. 4."
      ],
      "metadata": {
        "id": "ugcthSisQFqD"
      }
    },
    {
      "cell_type": "markdown",
      "source": [
        "(1) 버블 정렬(오름 차순)\n",
        "- 4,3,1,5,2,7,9,6\n",
        "- 3,1,4,2,5,7,6,9\n",
        "- 1,3,2,4,5,6,7,9\n",
        "- 1,2,3,4,5,6,7,9\n",
        "\n",
        "(2) 선택 정렬(오름 차순)\n",
        "- 4,3,1,5,2,7,9,6\n",
        "- 1,3,4,5,2,7,9,6\n",
        "- 1,2,4,5,3,7,9,6\n",
        "- 1,2,3,5,4,7,9,6\n",
        "- 1,2,3,4,5,7,9,6,\n",
        "- 1,2,3,4,5,6,9,7\n",
        "- 1,2,3,4,5,6,7,9\n",
        "\n",
        "(3) 삽입 정렬\n",
        "- 4,3,1,5,2,7,9,6\n",
        "- 3,4,1,5,2,7,9,6\n",
        "- 1,3,4,5,2,7,9,6\n",
        "- 1,2,3,4,5,7,9,6\n",
        "- 1,2,3,4,5,6,7,9\n",
        "\n",
        "(4) 퀵정렬 (단, partition 알고리즘은 수업 시간에 사용한 알고리즘 사용 - 마지막 원소를 pivot으로 사용)\n",
        "- 4,3,1,5,2,7,9,6\n",
        "- 4,3,1,5,2,6,9,7\n",
        "- 4,3,1,5,2,6,7,9\n",
        "- 1,2,4,3,5,6,7,9\n",
        "- 1,2,3,4,5,6,7,9"
      ],
      "metadata": {
        "id": "voflMidRQIw4"
      }
    }
  ]
}