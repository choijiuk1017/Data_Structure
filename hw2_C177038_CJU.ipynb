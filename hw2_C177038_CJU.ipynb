{
  "cells": [
    {
      "cell_type": "code",
      "execution_count": 1,
      "metadata": {
        "id": "p-WPrxN1Zsq9"
      },
      "outputs": [],
      "source": [
        "class ListNode:\n",
        "\tdef __init__(self, newItem, nextNode:'ListNode'):\n",
        "\t\tself.item = newItem\n",
        "\t\tself.next = nextNode\n",
        "\n",
        "class LinkedListBasic:\n",
        "\tdef __init__(self):\n",
        "\t\tself.__head = ListNode('dummy', None)\n",
        "\t\tself.__numItems = 0\n",
        "\n",
        "\t# [알고리즘 5 - 2] 구현: 연결 리스트에 원소 삽입하기(더미 헤드를 두는 대표 버전)\n",
        "\tdef insert(self, i:int, newItem):\n",
        "\t\tif i >= 0 and i <= self.__numItems: #i가 유용한 인덱스이면 (즉 0 ~ n-1)\n",
        "\t\t\tprev = self.__getNode(i - 1)  #prev 변수가 리스트의 마지막 노드를 레퍼런스\n",
        "\t\t\tnewNode = ListNode(newItem, prev.next) #ListNode()생성자를 이용하여 새 노드 생성한 후 기존 리스트에 연결\n",
        "\t\t\tprev.next = newNode #기존 리스트의 이전 노드를 새 노드에 연결\n",
        "\t\t\tself.__numItems += 1 #항목의 개수를 1 증가\n",
        "\t\telse:#인자로 주어진 i값이 유효한 범위를 벗어났을 때\n",
        "\t\t\tprint(\"index\", i, \": out of bound in insert()\") # 필요 시 에러 처리\n",
        " \n",
        "\tdef append(self, newItem): #newItem 값을 리스트 맨뒤에 추가\n",
        "\t\tprev = self.__getNode(self.__numItems - 1) # prev 변수가 마지막 노드를 레퍼런스\n",
        "\t\tnewNode = ListNode(newItem, prev.next) #새 노드를 생성한 후 리스트에 연결 \n",
        "\t\tprev.next = newNode #기존 리스트의 마지막 노드를 새 노드에 연결\n",
        "\t\tself.__numItems += 1 #항목의 개수를 1 증가\n",
        "\n",
        "\t#재귀 함수로 다시 해보기\n",
        "\t\n",
        "\t# [알고리즘 5 -4] 구현: 연결 리스트의 원소 x 삭제하기 (더미 헤드를 두는 대표 버전)\n",
        "\tdef remove(self, x):\n",
        "\t\t(prev, curr) = self.__findNode(x)\n",
        "\t\tif curr != None:\n",
        "\t\t\tprev.next = curr.next\n",
        "\t\t\tself.__numItems -= 1\n",
        "\t\t\treturn x\n",
        "\t\telse:\n",
        "\t\t\treturn None\n",
        "\n",
        "\t# [알고리즘 5 - 5] 구현: 연결 리스트의 i번 원소 알려주기\n",
        "\tdef get(self, i:int):\n",
        "\t\tif self.isEmpty():\n",
        "\t\t\treturn None\n",
        "\t\tif (i >= 0 and i <= self.__numItems - 1):\n",
        "\t\t\treturn self.__getNode(i).item\n",
        "\t\telse:\n",
        "\t\t\treturn None\n",
        " \n",
        "\t# [알고리즘 5 -7] 구현: x가 연결 리스트의 몇 번 원소인지 알려주기\n",
        "\tdef index(self, x) -> int:\n",
        "\t\tcurr = self.__head.next\t # 0번 노드:  더미 헤드 다음 노드\n",
        "\t\tfor index in range(self.__numItems):\n",
        "\t\t\tif curr.item == x:\n",
        "\t\t\t\treturn index\n",
        "\t\t\telse:\n",
        "\t\t\t\tcurr = curr.next\n",
        "\t\treturn -2 # 안 쓰는 인덱스\n",
        "\n",
        "\t# [알고리즘 5 -8] 구현: 기타 작업들\n",
        "\tdef isEmpty(self) -> bool:\n",
        "\t\treturn self.__numItems == 0\n",
        "\n",
        "\tdef size(self) -> int:\n",
        "\t\treturn self.__numItems\n",
        "\n",
        "\tdef clear(self):\n",
        "\t\tself.__head = ListNode(\"dummy\", None)\n",
        "\t\tself.__numItems = 0\n",
        "\n",
        "#item x가 리스트 내 몇번에 존재하는지 검사\n",
        "\tdef count(self, x) -> int:\n",
        "\t\tcnt = 0\n",
        "\t\tcurr = self.__head.next  # 0번 노드(즉 첫번째 노드,head가 더미 헤드 노드를 레퍼런스)\n",
        "\t\twhile curr != None:\n",
        "\t\t\tif curr.item == x:\n",
        "\t\t\t\t\tcnt += 1\n",
        "\t\t\tcurr = curr.next #curr이 다른 노드를 레퍼런스하게 함\n",
        "\t\treturn cnt\n",
        "\n",
        "#현재 리스트와 새로 추가되는 리스트 두 개를 하나의 연결 리스트로 확장\n",
        "\tdef extend(self, a): # 여기서 a는 self와 같은 타입의 리스트\n",
        "\t\tfor index in range(a.size()):\n",
        "\t\t\tself.append(a.get(index)) # 새 객체에 기존 리스트와 값들을 하나씩 추가\n",
        " \n",
        "\tdef copy(self): #새로운 연결 리스트 객체 생성\n",
        "\t\ta = LinkedListBasic()\n",
        "\t\tfor index in range(self.__numItems):\n",
        "\t\t\ta.append(self.get(index))\n",
        "\t\treturn a\n",
        "\n",
        "\tdef reverse(self): \n",
        "\t\ta = LinkedListBasic() #새 리스트 객체 생성\n",
        "\t\tfor index in range(self.__numItems): \n",
        "\t\t\ta.insert(0, self.get(index)) #새 리스트에 기존 리스트의 값들을 하나씩 순서대로 삽입\n",
        "\t\tself.clear() #기존 리스트를 초기화\n",
        "\t\tfor index in range(a.size()): #index 0 ~ Numitem - 1\n",
        "\t\t\tself.append(a.get(index)) #새 리스트의 역순으로 값들을 초기화된 기존 리스트에 추가\n",
        "\n",
        "\tdef sort(self) -> None:\n",
        "\t\ta = [] #빈 리스트 생성\n",
        "\t\tfor index in range(self.__numItems): #index : 0 ~ numItems -1\n",
        "\t\t\ta.append(self.get(index)) #각인덱스의 값을 불러와서 a 리스트에 추가\n",
        "\t\ta.sort() #파이썬 리스트 메서드인 sort를 a()에 적용\n",
        "\t\tself.clear() #원래 연결 리스트를 초기화\n",
        "\t\tfor index in range(len(a)): \n",
        "\t\t\tself.append(a[index])#리스트에 각 값들을 연결 리스트에 노드로 만들어서 추가\n",
        " \n",
        "\tdef __findNode(self, x) -> (ListNode, ListNode): #파라미터의 리턴 타입 명시\n",
        "\t\tprev = self.__head  # 더미 헤드\n",
        "\t\tcurr = prev.next    # 0번 노드\n",
        "\t\twhile curr != None:\n",
        "\t\t\tif curr.item == x: #curr이 레퍼런스하는 노드의 아이템 값이 x이면 \n",
        "\t\t\t\treturn (prev, curr) #prev, curr 값 반환\n",
        "\t\t\telse:\n",
        "\t\t\t\tprev = curr; curr = curr.next #prev, curr을 각각 다음 노드를 레퍼런스 하게 함\n",
        "\t\treturn (None, None) #리스트에 x가 존재하지 않음\n",
        "\n",
        "\t# [알고리즘 5-6] 구현: 연결 리스트의 i번 노드 알려주기\n",
        "\tdef __getNode(self, i:int) -> ListNode:\n",
        "\t\tcurr = self.__head # 더미 헤드, index: -1\n",
        "\t\tfor index in range(i+1):\n",
        "\t\t\tcurr = curr.next\n",
        "\t\treturn curr\n",
        "\n",
        "\tdef printList(self):\n",
        "\t\tcurr = self.__head.next # 0번 노드: 더미 헤드 다음 노드\n",
        "\t\twhile curr != None:\n",
        "\t\t\tprint(curr.item, end = \" \")\n",
        "\t\t\tcurr = curr.next\n",
        "\t\tprint()\n",
        "  \n",
        "\t#HW 1\n",
        "\t# item x 가 리스트 내에 존재하는지 여부를 검사: index() 메서드 호출해서 이용\n",
        "\tdef contains(self, x) -> bool:\n",
        "\t\tif self.index(x) >= 0:\n",
        "\t\t\treturn True\n",
        "\t\telse:\n",
        "\t\t\treturn False\n",
        "\n",
        "\t#HW 2\n",
        "\tdef printInterval(self, i:int, j:int):\n",
        "\t\t#i가 j보다 작을때\n",
        "\t\tif(i < j):\n",
        "\t\t\tif(j > self.__numItems): #j가 노드의 개수보다 클 때\n",
        "\t\t\t\tprint(\"Index out of range\") #범위 벗어남\n",
        "\t\t\telse:\n",
        "\t\t\t\tfor index in range(i, j+1): #아닐 경우 값 출력\n",
        "\t\t\t\t\tcurr = self.__getNode(index)\n",
        "\t\t\t\t\tprint(curr.item,end = \" \")\n",
        "\t\t\t\t\tif(curr.next == None): #다음 값이 None이면 멈춤\n",
        "\t\t\t\t\t\tbreak\n",
        "\t\t\t\tprint()\n",
        "\t \n",
        "\t\telif(i==j): #i와 j가 같을때\n",
        "\t\t\tcurr = self.__getNode(i) #해당 값 출력\n",
        "\t\t\tprint(curr.item,end = \" \")\n",
        "\n",
        "\t\telif(i > j): #i가 j보다 클 때\n",
        "\t\t\tprint(\"Start index should be less than or equal to End index\") #오류 출력\n",
        "\n",
        "\n",
        "\t#HW 4\n",
        "\tdef pop(self, i:int, k:int):\n",
        "\t\tretItem = 0 #return할 값\n",
        "\t\tif(i >= 0 and i <= self.__numItems-1): #i가 인덱스 크기보다 작을 때\n",
        "\t\t\tif(k > self.__numItems - i): #남은 노드의 수가 K보다 작을 때\n",
        "\t\t\t\tfor a in range(i, self.__numItems): #마지막 노드까지 반복\n",
        "\t\t\t\t\tprev = self.__getNode(i-1) \n",
        "\t\t\t\t\tcurr = prev.next\n",
        "\t\t\t\t\tif(curr.next == None): #마지막 노드일 경우\n",
        "\t\t\t\t\t\tprev.next = None #prev.next를 None으로 설정\n",
        "\t\t\t\t\telse: \n",
        "\t\t\t\t\t\tprev.next = curr.next \n",
        "\t\t\t\t\tretItem = curr.item\n",
        "\t\t\t\t\tself.__numItems -= 1\n",
        "\t\t\telse: # 남은 노드의 수가 K보다 많거나 같을 때 \n",
        "\t\t\t\tfor a in range(i, i+k):\n",
        "\t\t\t\t\tprev = self.__getNode(i-1)\n",
        "\t\t\t\t\tcurr = prev.next\n",
        "\t\t\t\t\tprev.next = curr.next\n",
        "\t\t\t\t\tretItem = curr.item\n",
        "\t\t\t\t\tself.__numItems -= 1\n",
        "\t\treturn retItem\n"
      ]
    },
    {
      "cell_type": "markdown",
      "metadata": {
        "id": "MyZdWOPmZ13O"
      },
      "source": [
        "No 1."
      ]
    },
    {
      "cell_type": "code",
      "execution_count": null,
      "metadata": {
        "colab": {
          "base_uri": "https://localhost:8080/"
        },
        "id": "GMjHobHifS1r",
        "outputId": "becf79fa-0ac5-4cce-92cb-3b922822de6b"
      },
      "outputs": [
        {
          "output_type": "stream",
          "name": "stdout",
          "text": [
            "1 2 3 \n",
            "0 : False\n",
            "1 : True\n",
            "2 : True\n",
            "3 : True\n",
            "4 : False\n"
          ]
        }
      ],
      "source": [
        "mylist = LinkedListBasic()\n",
        "mylist.append(1)\n",
        "mylist.append(2)\n",
        "mylist.append(3)\n",
        "mylist.printList()\n",
        "for i in range(5):\n",
        "  print(f\"{i} : {mylist.contains(i)}\")"
      ]
    },
    {
      "cell_type": "markdown",
      "metadata": {
        "id": "4ZHeo_CkA5f_"
      },
      "source": [
        "No 2."
      ]
    },
    {
      "cell_type": "code",
      "execution_count": null,
      "metadata": {
        "colab": {
          "base_uri": "https://localhost:8080/"
        },
        "id": "6eMLFY29A4AU",
        "outputId": "16c019d9-adba-4699-b163-8e8eee8c11c6"
      },
      "outputs": [
        {
          "output_type": "stream",
          "name": "stdout",
          "text": [
            "3 5 1 \n",
            "5 1 \n",
            "Index out of range\n",
            "Start index should be less than or equal to End index\n",
            "1 "
          ]
        }
      ],
      "source": [
        "mylist = LinkedListBasic()\n",
        "mylist.append(3)\n",
        "mylist.append(5)\n",
        "mylist.append(1)\n",
        "mylist.printInterval(0,2)\n",
        "mylist.printInterval(1,2)\n",
        "mylist.printInterval(0,5)\n",
        "mylist.printInterval(2,1)\n",
        "mylist.printInterval(2,2)"
      ]
    },
    {
      "cell_type": "markdown",
      "metadata": {
        "id": "NhPDu_4Ahipk"
      },
      "source": [
        "No 4."
      ]
    },
    {
      "cell_type": "code",
      "execution_count": 2,
      "metadata": {
        "colab": {
          "base_uri": "https://localhost:8080/"
        },
        "id": "QocGcfWihifr",
        "outputId": "453c133e-eb11-412a-9287-9c8e4c766071"
      },
      "outputs": [
        {
          "output_type": "stream",
          "name": "stdout",
          "text": [
            "5 1 2 4 \n",
            "5\n",
            "1 2 4 \n",
            "4\n",
            "1 2 4 5 \n",
            "5\n",
            "1 2 \n"
          ]
        }
      ],
      "source": [
        "mylist = LinkedListBasic()\n",
        "mylist.append(5)\n",
        "mylist.append(1)\n",
        "mylist.append(2)\n",
        "mylist.append(4)\n",
        "mylist.printList()\n",
        "print(mylist.pop(0,1))\n",
        "mylist.printList()\n",
        "print(mylist.pop(1,2))\n",
        "mylist.append(2)\n",
        "mylist.append(4)\n",
        "mylist.append(5)\n",
        "mylist.printList()\n",
        "print(mylist.pop(2,5))\n",
        "mylist.printList()"
      ]
    }
  ],
  "metadata": {
    "colab": {
      "collapsed_sections": [],
      "provenance": []
    },
    "kernelspec": {
      "display_name": "Python 3",
      "name": "python3"
    },
    "language_info": {
      "name": "python"
    }
  },
  "nbformat": 4,
  "nbformat_minor": 0
}