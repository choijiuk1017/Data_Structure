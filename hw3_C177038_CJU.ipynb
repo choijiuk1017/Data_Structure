{
  "nbformat": 4,
  "nbformat_minor": 0,
  "metadata": {
    "colab": {
      "provenance": [],
      "collapsed_sections": []
    },
    "kernelspec": {
      "name": "python3",
      "display_name": "Python 3"
    },
    "language_info": {
      "name": "python"
    }
  },
  "cells": [
    {
      "cell_type": "markdown",
      "source": [
        "C177038 최지욱 hw3"
      ],
      "metadata": {
        "id": "lMgyxnsdUrtB"
      }
    },
    {
      "cell_type": "code",
      "execution_count": 48,
      "metadata": {
        "id": "w_GrIFuGUNR7"
      },
      "outputs": [],
      "source": [
        "class ListStack:\n",
        "\tdef __init__(self):\n",
        "\t\tself.__stack = []\n",
        "\n",
        "\tdef push(self, x):\n",
        "\t\tself.__stack.append(x)\n",
        "\n",
        "\tdef pop(self):\n",
        "\t\treturn self.__stack.pop()\n",
        "\n",
        "\tdef top(self):\n",
        "\t\tif self.isEmpty():\n",
        "\t\t\treturn None\n",
        "\t\telse:\n",
        "\t\t\treturn self.__stack[-1]\n",
        "\n",
        "\tdef isEmpty(self) -> bool:\n",
        "\t\treturn not bool(self.__stack)\n",
        "\n",
        "\tdef popAll(self):\n",
        "\t\tself.__stack.clear() \n",
        "\n",
        "\tdef printStack(self):\n",
        "\t\tprint(\"Stack from top:\", end = ' ')\n",
        "\t\tfor i in range(len(self.__stack)-1, -1, -1):\n",
        "\t\t\tprint(self.__stack[i], end = ' ')\n",
        "\t\tprint()"
      ]
    },
    {
      "cell_type": "markdown",
      "source": [
        "Homework 4."
      ],
      "metadata": {
        "id": "AvxJaq0zUnxX"
      }
    },
    {
      "cell_type": "code",
      "source": [
        "def parentheses_check(s) -> bool:\n",
        "  st = ListStack()\n",
        "  for i in range(len(s)): \n",
        "    # 시작 괄호를 만나면 스택에 넣음\n",
        "    if s[i] == '(':\n",
        "      st.push(s[i])\n",
        "    elif s[i] == '{':\n",
        "      st.push(s[i])\n",
        "    elif s[i] == '[':\n",
        "      st.push(s[i])\n",
        "\n",
        "    elif s[i] == ')':\n",
        "      if st.top() == '(':\n",
        "        st.pop()\n",
        "      else:\n",
        "        return False\n",
        "\n",
        "    # 마침 괄호를 만나면 스택 확인 후 삭제 or False 반환\n",
        "    elif s[i] == '}':\n",
        "      if st.top() == '{':\n",
        "        st.pop()\n",
        "      else:\n",
        "        return False\n",
        "\n",
        "    elif s[i] == ']': \n",
        "      if st.top() == '[':\n",
        "        st.pop()\n",
        "      else:\n",
        "        return False\n",
        "\n",
        "  #스택이 모두 비었다면 True\n",
        "  if st.isEmpty():\n",
        "   return True\n",
        "   \n",
        "  else:\n",
        "    return False"
      ],
      "metadata": {
        "id": "bddk8EJWUy9U"
      },
      "execution_count": 46,
      "outputs": []
    },
    {
      "cell_type": "code",
      "source": [
        "test = ['()', ')(', '{3+(20*5)}', '({))', '(3*4 + (6)', '({2+50)}', '([{}])']\n",
        "for item in test:\n",
        "  print(parentheses_check(item))"
      ],
      "metadata": {
        "colab": {
          "base_uri": "https://localhost:8080/"
        },
        "id": "CH_GHKFrdaV_",
        "outputId": "8e81e5c8-4090-4261-b8ec-ba4a67efa9af"
      },
      "execution_count": 47,
      "outputs": [
        {
          "output_type": "stream",
          "name": "stdout",
          "text": [
            "True\n",
            "False\n",
            "True\n",
            "False\n",
            "False\n",
            "False\n",
            "True\n"
          ]
        }
      ]
    },
    {
      "cell_type": "markdown",
      "source": [
        "Homework 5."
      ],
      "metadata": {
        "id": "YGkJhmDkcGYe"
      }
    },
    {
      "cell_type": "code",
      "source": [
        "def isPalindrome(s):\n",
        "  st = ListStack()\n",
        "  new_s = ''.join(filter(str.isalnum, s)) #https://koreapy.tistory.com/1206 특수 문자 제거 참조\n",
        "  new_s = new_s.lower() # https://thebook.io/006992/part02/ch07/03/02/ 소문자 변환 참조\n",
        "\n",
        "  for i in range(len(new_s)): #스택에 문자열 삽입\n",
        "    st.push(new_s[i])\n",
        "\n",
        "  for i in range(len(new_s)): #스택에서 pop하면서 거꾸로 나오는 문자가 기존과 같은지 확인\n",
        "    if st.pop() != new_s[i]:\n",
        "      return False\n",
        "\n",
        "  if st.isEmpty():#스택에 남아 있는 문자가 없으면 True 반환\n",
        "    return True\n",
        "\n",
        "def main():\n",
        "\n",
        "  s_list = ['eve', \"madam, I'm Adam\", 'race car', 'Anna!', 'test']\n",
        "  for item in s_list:\n",
        "    print(isPalindrome(item), end =\" \")\n",
        "\n",
        "if __name__ == \"__main__\":\n",
        "  main()"
      ],
      "metadata": {
        "colab": {
          "base_uri": "https://localhost:8080/"
        },
        "id": "yQzlxe92cKXh",
        "outputId": "f736beb4-7634-4058-b249-10d07901781e"
      },
      "execution_count": 45,
      "outputs": [
        {
          "output_type": "stream",
          "name": "stdout",
          "text": [
            "True True True True False "
          ]
        }
      ]
    }
  ]
}